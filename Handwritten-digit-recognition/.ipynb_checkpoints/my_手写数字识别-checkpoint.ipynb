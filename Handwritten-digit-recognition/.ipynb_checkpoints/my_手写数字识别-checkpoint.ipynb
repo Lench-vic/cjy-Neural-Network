{
 "cells": [
  {
   "cell_type": "code",
   "execution_count": 49,
   "metadata": {
    "collapsed": true
   },
   "outputs": [],
   "source": [
    "import cv2\n",
    "import torch\n",
    "import gzip\n",
    "import pickle\n",
    "import torch.nn as nn\n",
    "import numpy as np\n",
    "from torch.utils.data import DataLoader\n",
    "from torch.utils.data import TensorDataset\n",
    "# from torch.utils.tensorboard import SummaryWriter"
   ]
  },
  {
   "cell_type": "code",
   "execution_count": 50,
   "outputs": [],
   "source": [
    "## 读取数据集\n",
    "PATH = \"./data/mnist/mnist.pkl.gz\"\n",
    "((x_train, y_train), (x_valid, y_valid), temp) = pickle.load(gzip.open(PATH, \"rb\"), encoding=\"latin-1\")"
   ],
   "metadata": {
    "collapsed": false,
    "pycharm": {
     "name": "#%%\n"
    }
   }
  },
  {
   "cell_type": "code",
   "execution_count": 51,
   "outputs": [
    {
     "data": {
      "text/plain": "tensor([5, 0, 4,  ..., 8, 4, 8])"
     },
     "execution_count": 51,
     "metadata": {},
     "output_type": "execute_result"
    }
   ],
   "source": [
    "## 数据格式转换\n",
    "x_train, y_train, x_valid, y_valid = map(\n",
    "    torch.tensor, (x_train, y_train, x_valid, y_valid)\n",
    ")\n",
    "y_train"
   ],
   "metadata": {
    "collapsed": false,
    "pycharm": {
     "name": "#%%\n"
    }
   }
  },
  {
   "cell_type": "code",
   "execution_count": 52,
   "outputs": [],
   "source": [
    "## batch\n",
    "batch_size = 64\n",
    "train_data = TensorDataset(x_train, y_train)\n",
    "train_loader = DataLoader(train_data, batch_size, shuffle=True)\n",
    "test_data = TensorDataset(x_valid, y_valid)\n",
    "test_loader = DataLoader(test_data, batch_size, shuffle=True)"
   ],
   "metadata": {
    "collapsed": false,
    "pycharm": {
     "name": "#%%\n"
    }
   }
  },
  {
   "cell_type": "code",
   "execution_count": 53,
   "outputs": [],
   "source": [
    "# ## 借助tensorboard观察\n",
    "# writer = SummaryWriter(\"logs\")\n",
    "# for epoch in range(64):\n",
    "#     steps = 0\n",
    "#     for data in train_loader:\n",
    "#         imgs, targets = data\n",
    "#         imgs.resize(28,28)\n",
    "#         print(imgs.shape)\n",
    "#         writer.add_images(\"Epoch: {}\".format(epoch), imgs, steps)\n",
    "#         steps += 1\n",
    "# writer.close()"
   ],
   "metadata": {
    "collapsed": false,
    "pycharm": {
     "name": "#%%\n"
    }
   }
  },
  {
   "cell_type": "code",
   "execution_count": 60,
   "outputs": [],
   "source": [
    "## 网络定义\n",
    "class CNN(nn.Module):\n",
    "    def __init__(self):\n",
    "        super().__init__()\n",
    "        self.hidden1 = nn.Linear(784, 128)\n",
    "        self.hidden2 = nn.Linear(128, 256)\n",
    "        self.out = nn.Linear(256, 10)\n",
    "\n",
    "    def forward(self, x):\n",
    "        x = self.hidden1(x)\n",
    "        x = nn.ReLU()\n",
    "        x = self.hidden2(x)\n",
    "        x = nn.ReLU()\n",
    "        x = self.out(x)\n",
    "        return x"
   ],
   "metadata": {
    "collapsed": false,
    "pycharm": {
     "name": "#%%\n"
    }
   }
  },
  {
   "cell_type": "code",
   "execution_count": 55,
   "outputs": [],
   "source": [
    "## 参数设置\n",
    "# 模型例化\n",
    "model = CNN()\n",
    "# 训练次数\n",
    "epochs = 50\n",
    "# 学习率\n",
    "lr = 0.01\n",
    "# 优化器\n",
    "optimizer = torch.optim.Adam(model.parameters(), lr=lr)\n",
    "# 损失函数\n",
    "loss = nn.CrossEntropyLoss()"
   ],
   "metadata": {
    "collapsed": false,
    "pycharm": {
     "name": "#%%\n"
    }
   }
  },
  {
   "cell_type": "code",
   "execution_count": 56,
   "outputs": [
    {
     "name": "stdout",
     "output_type": "stream",
     "text": [
      "当前step : 0/50 ,训练集损失 : 0.30031 , 验证集损失 : 0.05481\n",
      "当前step : 1/50 ,训练集损失 : 0.16279 , 验证集损失 : 0.00040\n",
      "当前step : 2/50 ,训练集损失 : 0.00132 , 验证集损失 : 0.00316\n",
      "当前step : 3/50 ,训练集损失 : 0.23709 , 验证集损失 : 0.01035\n",
      "当前step : 4/50 ,训练集损失 : 0.05438 , 验证集损失 : 0.16858\n",
      "当前step : 5/50 ,训练集损失 : 0.04857 , 验证集损失 : 0.00525\n",
      "当前step : 6/50 ,训练集损失 : 0.00768 , 验证集损失 : 0.00996\n",
      "当前step : 7/50 ,训练集损失 : 0.00101 , 验证集损失 : 0.03757\n",
      "当前step : 8/50 ,训练集损失 : 0.19925 , 验证集损失 : 0.00946\n",
      "当前step : 9/50 ,训练集损失 : 0.16383 , 验证集损失 : 0.00207\n",
      "当前step : 10/50 ,训练集损失 : 0.15149 , 验证集损失 : 0.50414\n",
      "当前step : 11/50 ,训练集损失 : 0.02419 , 验证集损失 : 0.78361\n",
      "当前step : 12/50 ,训练集损失 : 0.00020 , 验证集损失 : 0.00040\n",
      "当前step : 13/50 ,训练集损失 : 0.00238 , 验证集损失 : 0.08138\n",
      "当前step : 14/50 ,训练集损失 : 0.00264 , 验证集损失 : 0.00003\n",
      "当前step : 15/50 ,训练集损失 : 0.15614 , 验证集损失 : 1.55595\n",
      "当前step : 16/50 ,训练集损失 : 0.00000 , 验证集损失 : 2.81519\n",
      "当前step : 17/50 ,训练集损失 : 0.00000 , 验证集损失 : 0.00672\n",
      "当前step : 18/50 ,训练集损失 : 0.00022 , 验证集损失 : 0.00197\n",
      "当前step : 19/50 ,训练集损失 : 0.00000 , 验证集损失 : 0.21673\n",
      "当前step : 20/50 ,训练集损失 : 0.53489 , 验证集损失 : 0.00256\n",
      "当前step : 21/50 ,训练集损失 : 0.09127 , 验证集损失 : 0.03185\n",
      "当前step : 22/50 ,训练集损失 : 0.11239 , 验证集损失 : 0.00005\n",
      "当前step : 23/50 ,训练集损失 : 0.00898 , 验证集损失 : 1.23660\n",
      "当前step : 24/50 ,训练集损失 : 0.01882 , 验证集损失 : 0.08490\n",
      "当前step : 25/50 ,训练集损失 : 0.00001 , 验证集损失 : 0.00013\n",
      "当前step : 26/50 ,训练集损失 : 0.00001 , 验证集损失 : 0.00028\n",
      "当前step : 27/50 ,训练集损失 : 0.06217 , 验证集损失 : 0.00217\n",
      "当前step : 28/50 ,训练集损失 : 0.00079 , 验证集损失 : 0.18119\n",
      "当前step : 29/50 ,训练集损失 : 0.30223 , 验证集损失 : 0.00080\n",
      "当前step : 30/50 ,训练集损失 : 0.00658 , 验证集损失 : 0.00003\n",
      "当前step : 31/50 ,训练集损失 : 0.00000 , 验证集损失 : 0.11899\n",
      "当前step : 32/50 ,训练集损失 : 0.00050 , 验证集损失 : 0.00005\n",
      "当前step : 33/50 ,训练集损失 : 0.11295 , 验证集损失 : 0.00001\n",
      "当前step : 34/50 ,训练集损失 : 0.00000 , 验证集损失 : 0.00377\n",
      "当前step : 35/50 ,训练集损失 : 0.06595 , 验证集损失 : 0.00097\n",
      "当前step : 36/50 ,训练集损失 : 0.00001 , 验证集损失 : 0.16897\n",
      "当前step : 37/50 ,训练集损失 : 0.00000 , 验证集损失 : 0.00006\n",
      "当前step : 38/50 ,训练集损失 : 0.46184 , 验证集损失 : 0.14021\n",
      "当前step : 39/50 ,训练集损失 : 0.00000 , 验证集损失 : 0.42820\n",
      "当前step : 40/50 ,训练集损失 : 0.00194 , 验证集损失 : 0.13029\n",
      "当前step : 41/50 ,训练集损失 : 0.04434 , 验证集损失 : 0.00000\n",
      "当前step : 42/50 ,训练集损失 : 0.00003 , 验证集损失 : 0.00101\n",
      "当前step : 43/50 ,训练集损失 : 0.35651 , 验证集损失 : 0.86791\n",
      "当前step : 44/50 ,训练集损失 : 0.69797 , 验证集损失 : 0.00005\n",
      "当前step : 45/50 ,训练集损失 : 0.00000 , 验证集损失 : 0.00000\n",
      "当前step : 46/50 ,训练集损失 : 0.00004 , 验证集损失 : 0.55021\n",
      "当前step : 47/50 ,训练集损失 : 0.00095 , 验证集损失 : 0.00001\n",
      "当前step : 48/50 ,训练集损失 : 0.00018 , 验证集损失 : 0.17237\n",
      "当前step : 49/50 ,训练集损失 : 0.01892 , 验证集损失 : 0.00000\n"
     ]
    }
   ],
   "source": [
    "## 开始训练\n",
    "for epoch in range(epochs):\n",
    "    losses = []\n",
    "    val_loss = []\n",
    "    model.train()\n",
    "    for i, data in enumerate(train_loader):\n",
    "        input_img, targets = data\n",
    "        # 前向传播\n",
    "        out = model(input_img.to(torch.float32))\n",
    "        # 计算损失\n",
    "        losses = loss(out, targets)\n",
    "        # 反相传播\n",
    "        losses.backward()\n",
    "        # 更新参数\n",
    "        optimizer.step()\n",
    "        # 梯度清零\n",
    "        optimizer.zero_grad()\n",
    "    model.eval()\n",
    "    for i, val_data in enumerate(test_loader):\n",
    "        val_img, targets = val_data\n",
    "        val_out = model(val_img.to(torch.float32))\n",
    "        val_loss = loss(val_out, targets)\n",
    "    print(\"当前step : {}/{} ,训练集损失 : {:.5f} , 验证集损失 : {:.5f}\".format(epoch+1, epochs, losses, val_loss))"
   ],
   "metadata": {
    "collapsed": false,
    "pycharm": {
     "name": "#%%\n"
    }
   }
  },
  {
   "cell_type": "code",
   "execution_count": 59,
   "outputs": [
    {
     "ename": "RuntimeError",
     "evalue": "expected scalar type Byte but found Float",
     "output_type": "error",
     "traceback": [
      "\u001B[1;31m---------------------------------------------------------------------------\u001B[0m",
      "\u001B[1;31mRuntimeError\u001B[0m                              Traceback (most recent call last)",
      "Input \u001B[1;32mIn [59]\u001B[0m, in \u001B[0;36m<cell line: 5>\u001B[1;34m()\u001B[0m\n\u001B[0;32m      3\u001B[0m img \u001B[38;5;241m=\u001B[39m cv2\u001B[38;5;241m.\u001B[39mresize(img,(\u001B[38;5;241m28\u001B[39m,\u001B[38;5;241m28\u001B[39m))\u001B[38;5;241m.\u001B[39mflatten()\n\u001B[0;32m      4\u001B[0m img \u001B[38;5;241m=\u001B[39m torch\u001B[38;5;241m.\u001B[39mfrom_numpy(img)\n\u001B[1;32m----> 5\u001B[0m predicted \u001B[38;5;241m=\u001B[39m \u001B[43mmodel\u001B[49m\u001B[43m(\u001B[49m\u001B[43mimg\u001B[49m\u001B[43m)\u001B[49m\n\u001B[0;32m      6\u001B[0m \u001B[38;5;28mprint\u001B[39m(predicted)\n",
      "File \u001B[1;32mE:\\anaconda3\\envs\\networks\\lib\\site-packages\\torch\\nn\\modules\\module.py:1130\u001B[0m, in \u001B[0;36mModule._call_impl\u001B[1;34m(self, *input, **kwargs)\u001B[0m\n\u001B[0;32m   1126\u001B[0m \u001B[38;5;66;03m# If we don't have any hooks, we want to skip the rest of the logic in\u001B[39;00m\n\u001B[0;32m   1127\u001B[0m \u001B[38;5;66;03m# this function, and just call forward.\u001B[39;00m\n\u001B[0;32m   1128\u001B[0m \u001B[38;5;28;01mif\u001B[39;00m \u001B[38;5;129;01mnot\u001B[39;00m (\u001B[38;5;28mself\u001B[39m\u001B[38;5;241m.\u001B[39m_backward_hooks \u001B[38;5;129;01mor\u001B[39;00m \u001B[38;5;28mself\u001B[39m\u001B[38;5;241m.\u001B[39m_forward_hooks \u001B[38;5;129;01mor\u001B[39;00m \u001B[38;5;28mself\u001B[39m\u001B[38;5;241m.\u001B[39m_forward_pre_hooks \u001B[38;5;129;01mor\u001B[39;00m _global_backward_hooks\n\u001B[0;32m   1129\u001B[0m         \u001B[38;5;129;01mor\u001B[39;00m _global_forward_hooks \u001B[38;5;129;01mor\u001B[39;00m _global_forward_pre_hooks):\n\u001B[1;32m-> 1130\u001B[0m     \u001B[38;5;28;01mreturn\u001B[39;00m \u001B[43mforward_call\u001B[49m\u001B[43m(\u001B[49m\u001B[38;5;241;43m*\u001B[39;49m\u001B[38;5;28;43minput\u001B[39;49m\u001B[43m,\u001B[49m\u001B[43m \u001B[49m\u001B[38;5;241;43m*\u001B[39;49m\u001B[38;5;241;43m*\u001B[39;49m\u001B[43mkwargs\u001B[49m\u001B[43m)\u001B[49m\n\u001B[0;32m   1131\u001B[0m \u001B[38;5;66;03m# Do not call functions when jit is used\u001B[39;00m\n\u001B[0;32m   1132\u001B[0m full_backward_hooks, non_full_backward_hooks \u001B[38;5;241m=\u001B[39m [], []\n",
      "Input \u001B[1;32mIn [54]\u001B[0m, in \u001B[0;36mCNN.forward\u001B[1;34m(self, x)\u001B[0m\n\u001B[0;32m      9\u001B[0m \u001B[38;5;28;01mdef\u001B[39;00m \u001B[38;5;21mforward\u001B[39m(\u001B[38;5;28mself\u001B[39m, x):\n\u001B[1;32m---> 10\u001B[0m     x \u001B[38;5;241m=\u001B[39m nn\u001B[38;5;241m.\u001B[39mfunctional\u001B[38;5;241m.\u001B[39mrelu(\u001B[38;5;28;43mself\u001B[39;49m\u001B[38;5;241;43m.\u001B[39;49m\u001B[43mhidden1\u001B[49m\u001B[43m(\u001B[49m\u001B[43mx\u001B[49m\u001B[43m)\u001B[49m)\n\u001B[0;32m     11\u001B[0m     x \u001B[38;5;241m=\u001B[39m nn\u001B[38;5;241m.\u001B[39mfunctional\u001B[38;5;241m.\u001B[39mrelu(\u001B[38;5;28mself\u001B[39m\u001B[38;5;241m.\u001B[39mhidden2(x))\n\u001B[0;32m     12\u001B[0m     x \u001B[38;5;241m=\u001B[39m \u001B[38;5;28mself\u001B[39m\u001B[38;5;241m.\u001B[39mout(x)\n",
      "File \u001B[1;32mE:\\anaconda3\\envs\\networks\\lib\\site-packages\\torch\\nn\\modules\\module.py:1130\u001B[0m, in \u001B[0;36mModule._call_impl\u001B[1;34m(self, *input, **kwargs)\u001B[0m\n\u001B[0;32m   1126\u001B[0m \u001B[38;5;66;03m# If we don't have any hooks, we want to skip the rest of the logic in\u001B[39;00m\n\u001B[0;32m   1127\u001B[0m \u001B[38;5;66;03m# this function, and just call forward.\u001B[39;00m\n\u001B[0;32m   1128\u001B[0m \u001B[38;5;28;01mif\u001B[39;00m \u001B[38;5;129;01mnot\u001B[39;00m (\u001B[38;5;28mself\u001B[39m\u001B[38;5;241m.\u001B[39m_backward_hooks \u001B[38;5;129;01mor\u001B[39;00m \u001B[38;5;28mself\u001B[39m\u001B[38;5;241m.\u001B[39m_forward_hooks \u001B[38;5;129;01mor\u001B[39;00m \u001B[38;5;28mself\u001B[39m\u001B[38;5;241m.\u001B[39m_forward_pre_hooks \u001B[38;5;129;01mor\u001B[39;00m _global_backward_hooks\n\u001B[0;32m   1129\u001B[0m         \u001B[38;5;129;01mor\u001B[39;00m _global_forward_hooks \u001B[38;5;129;01mor\u001B[39;00m _global_forward_pre_hooks):\n\u001B[1;32m-> 1130\u001B[0m     \u001B[38;5;28;01mreturn\u001B[39;00m \u001B[43mforward_call\u001B[49m\u001B[43m(\u001B[49m\u001B[38;5;241;43m*\u001B[39;49m\u001B[38;5;28;43minput\u001B[39;49m\u001B[43m,\u001B[49m\u001B[43m \u001B[49m\u001B[38;5;241;43m*\u001B[39;49m\u001B[38;5;241;43m*\u001B[39;49m\u001B[43mkwargs\u001B[49m\u001B[43m)\u001B[49m\n\u001B[0;32m   1131\u001B[0m \u001B[38;5;66;03m# Do not call functions when jit is used\u001B[39;00m\n\u001B[0;32m   1132\u001B[0m full_backward_hooks, non_full_backward_hooks \u001B[38;5;241m=\u001B[39m [], []\n",
      "File \u001B[1;32mE:\\anaconda3\\envs\\networks\\lib\\site-packages\\torch\\nn\\modules\\linear.py:114\u001B[0m, in \u001B[0;36mLinear.forward\u001B[1;34m(self, input)\u001B[0m\n\u001B[0;32m    113\u001B[0m \u001B[38;5;28;01mdef\u001B[39;00m \u001B[38;5;21mforward\u001B[39m(\u001B[38;5;28mself\u001B[39m, \u001B[38;5;28minput\u001B[39m: Tensor) \u001B[38;5;241m-\u001B[39m\u001B[38;5;241m>\u001B[39m Tensor:\n\u001B[1;32m--> 114\u001B[0m     \u001B[38;5;28;01mreturn\u001B[39;00m \u001B[43mF\u001B[49m\u001B[38;5;241;43m.\u001B[39;49m\u001B[43mlinear\u001B[49m\u001B[43m(\u001B[49m\u001B[38;5;28;43minput\u001B[39;49m\u001B[43m,\u001B[49m\u001B[43m \u001B[49m\u001B[38;5;28;43mself\u001B[39;49m\u001B[38;5;241;43m.\u001B[39;49m\u001B[43mweight\u001B[49m\u001B[43m,\u001B[49m\u001B[43m \u001B[49m\u001B[38;5;28;43mself\u001B[39;49m\u001B[38;5;241;43m.\u001B[39;49m\u001B[43mbias\u001B[49m\u001B[43m)\u001B[49m\n",
      "\u001B[1;31mRuntimeError\u001B[0m: expected scalar type Byte but found Float"
     ]
    }
   ],
   "source": [
    "## 结果预测\n",
    "img = cv2.imread(\"./data/3.jpg\",cv2.THRESH_BINARY)\n",
    "img = cv2.resize(img,(28,28)).flatten()\n",
    "img = torch.from_numpy(img)\n",
    "predicted = model(img)\n",
    "print(predicted)"
   ],
   "metadata": {
    "collapsed": false,
    "pycharm": {
     "name": "#%%\n"
    }
   }
  },
  {
   "cell_type": "code",
   "execution_count": null,
   "outputs": [],
   "source": [],
   "metadata": {
    "collapsed": false,
    "pycharm": {
     "name": "#%%\n"
    }
   }
  }
 ],
 "metadata": {
  "kernelspec": {
   "display_name": "Python 3",
   "language": "python",
   "name": "python3"
  },
  "language_info": {
   "codemirror_mode": {
    "name": "ipython",
    "version": 2
   },
   "file_extension": ".py",
   "mimetype": "text/x-python",
   "name": "python",
   "nbconvert_exporter": "python",
   "pygments_lexer": "ipython2",
   "version": "2.7.6"
  }
 },
 "nbformat": 4,
 "nbformat_minor": 0
}