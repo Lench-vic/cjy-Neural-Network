{
 "cells": [
  {
   "cell_type": "code",
   "execution_count": 1,
   "metadata": {
    "tags": []
   },
   "outputs": [],
   "source": [
    "import cv2\n",
    "import torch\n",
    "import gzip\n",
    "import pickle\n",
    "import torch.nn as nn\n",
    "import numpy as np\n",
    "from torch.utils.data import DataLoader\n",
    "from torch.utils.data import TensorDataset\n",
    "# from torch.utils.tensorboard import SummaryWriter"
   ]
  },
  {
   "cell_type": "code",
   "execution_count": 2,
   "metadata": {
    "collapsed": false,
    "jupyter": {
     "outputs_hidden": false
    },
    "pycharm": {
     "name": "#%%\n"
    }
   },
   "outputs": [],
   "source": [
    "## 读取数据集\n",
    "PATH = \"./data/mnist/mnist.pkl.gz\"\n",
    "((x_train, y_train), (x_valid, y_valid), temp) = pickle.load(gzip.open(PATH, \"rb\"), encoding=\"latin-1\")"
   ]
  },
  {
   "cell_type": "code",
   "execution_count": 3,
   "metadata": {
    "collapsed": false,
    "jupyter": {
     "outputs_hidden": false
    },
    "pycharm": {
     "name": "#%%\n"
    }
   },
   "outputs": [
    {
     "data": {
      "text/plain": [
       "tensor([5, 0, 4,  ..., 8, 4, 8])"
      ]
     },
     "execution_count": 3,
     "metadata": {},
     "output_type": "execute_result"
    }
   ],
   "source": [
    "## 数据格式转换\n",
    "x_train, y_train, x_valid, y_valid = map(\n",
    "    torch.tensor, (x_train, y_train, x_valid, y_valid)\n",
    ")\n",
    "y_train"
   ]
  },
  {
   "cell_type": "code",
   "execution_count": 4,
   "metadata": {
    "collapsed": false,
    "jupyter": {
     "outputs_hidden": false
    },
    "pycharm": {
     "name": "#%%\n"
    }
   },
   "outputs": [],
   "source": [
    "## batch\n",
    "batch_size = 64\n",
    "train_data = TensorDataset(x_train, y_train)\n",
    "train_loader = DataLoader(train_data, batch_size, shuffle=True)\n",
    "test_data = TensorDataset(x_valid, y_valid)\n",
    "test_loader = DataLoader(test_data, batch_size, shuffle=True)"
   ]
  },
  {
   "cell_type": "code",
   "execution_count": 5,
   "metadata": {
    "collapsed": false,
    "jupyter": {
     "outputs_hidden": false
    },
    "pycharm": {
     "name": "#%%\n"
    }
   },
   "outputs": [],
   "source": [
    "# ## 借助tensorboard观察\n",
    "# writer = SummaryWriter(\"logs\")\n",
    "# for epoch in range(64):\n",
    "#     steps = 0\n",
    "#     for data in train_loader:\n",
    "#         imgs, targets = data\n",
    "#         imgs.resize(28,28)\n",
    "#         print(imgs.shape)\n",
    "#         writer.add_images(\"Epoch: {}\".format(epoch), imgs, steps)\n",
    "#         steps += 1\n",
    "# writer.close()"
   ]
  },
  {
   "cell_type": "code",
   "execution_count": 6,
   "metadata": {
    "collapsed": false,
    "jupyter": {
     "outputs_hidden": false
    },
    "pycharm": {
     "name": "#%%\n"
    }
   },
   "outputs": [],
   "source": [
    "## 网络定义\n",
    "class CNN(nn.Module):\n",
    "    def __init__(self):\n",
    "        super().__init__()\n",
    "        self.hidden1 = nn.Linear(784, 128)\n",
    "        self.hidden2 = nn.Linear(128, 256)\n",
    "        self.out = nn.Linear(256, 10)\n",
    "\n",
    "    def forward(self, x):\n",
    "        x = nn.functional.relu(self.hidden1(x))\n",
    "        x = nn.functional.relu(self.hidden2(x))\n",
    "        x = self.out(x)\n",
    "        return x"
   ]
  },
  {
   "cell_type": "code",
   "execution_count": 7,
   "metadata": {
    "collapsed": false,
    "jupyter": {
     "outputs_hidden": false
    },
    "pycharm": {
     "name": "#%%\n"
    }
   },
   "outputs": [],
   "source": [
    "## 参数设置\n",
    "# 模型例化\n",
    "model = CNN()\n",
    "# 训练次数\n",
    "epochs = 50\n",
    "# 学习率\n",
    "lr = 0.01\n",
    "# 优化器\n",
    "optimizer = torch.optim.Adam(model.parameters(), lr=lr)\n",
    "# 损失函数\n",
    "loss = nn.CrossEntropyLoss()"
   ]
  },
  {
   "cell_type": "code",
   "execution_count": 8,
   "metadata": {
    "collapsed": false,
    "jupyter": {
     "outputs_hidden": false
    },
    "pycharm": {
     "name": "#%%\n"
    }
   },
   "outputs": [
    {
     "name": "stdout",
     "output_type": "stream",
     "text": [
      "当前step : 1/50 ,训练集损失 : 0.16568 , 验证集损失 : 0.01874\n",
      "当前step : 2/50 ,训练集损失 : 0.01112 , 验证集损失 : 0.00198\n",
      "当前step : 3/50 ,训练集损失 : 0.00134 , 验证集损失 : 0.04457\n",
      "当前step : 4/50 ,训练集损失 : 0.01291 , 验证集损失 : 0.35847\n",
      "当前step : 5/50 ,训练集损失 : 0.00770 , 验证集损失 : 0.01023\n",
      "当前step : 6/50 ,训练集损失 : 0.07823 , 验证集损失 : 0.16927\n",
      "当前step : 7/50 ,训练集损失 : 0.08568 , 验证集损失 : 0.00385\n",
      "当前step : 8/50 ,训练集损失 : 0.00369 , 验证集损失 : 0.56169\n",
      "当前step : 9/50 ,训练集损失 : 0.00085 , 验证集损失 : 0.03413\n",
      "当前step : 10/50 ,训练集损失 : 0.03892 , 验证集损失 : 0.00100\n",
      "当前step : 11/50 ,训练集损失 : 0.08171 , 验证集损失 : 0.50068\n",
      "当前step : 12/50 ,训练集损失 : 0.10462 , 验证集损失 : 1.99110\n",
      "当前step : 13/50 ,训练集损失 : 0.07956 , 验证集损失 : 0.00004\n",
      "当前step : 14/50 ,训练集损失 : 0.18930 , 验证集损失 : 0.00003\n",
      "当前step : 15/50 ,训练集损失 : 0.00069 , 验证集损失 : 0.04326\n",
      "当前step : 16/50 ,训练集损失 : 0.00086 , 验证集损失 : 0.00103\n",
      "当前step : 17/50 ,训练集损失 : 0.14208 , 验证集损失 : 0.00001\n",
      "当前step : 18/50 ,训练集损失 : 0.00004 , 验证集损失 : 0.00004\n",
      "当前step : 19/50 ,训练集损失 : 0.00001 , 验证集损失 : 0.96519\n",
      "当前step : 20/50 ,训练集损失 : 0.22887 , 验证集损失 : 1.43573\n",
      "当前step : 21/50 ,训练集损失 : 0.09132 , 验证集损失 : 0.54430\n",
      "当前step : 22/50 ,训练集损失 : 0.04996 , 验证集损失 : 0.18288\n",
      "当前step : 23/50 ,训练集损失 : 0.00004 , 验证集损失 : 0.02326\n",
      "当前step : 24/50 ,训练集损失 : 0.00627 , 验证集损失 : 0.58088\n",
      "当前step : 25/50 ,训练集损失 : 0.00003 , 验证集损失 : 0.00002\n",
      "当前step : 26/50 ,训练集损失 : 0.03384 , 验证集损失 : 1.05479\n",
      "当前step : 27/50 ,训练集损失 : 0.20614 , 验证集损失 : 0.68957\n",
      "当前step : 28/50 ,训练集损失 : 0.00831 , 验证集损失 : 0.11804\n",
      "当前step : 29/50 ,训练集损失 : 0.00002 , 验证集损失 : 0.00076\n",
      "当前step : 30/50 ,训练集损失 : 0.00046 , 验证集损失 : 0.00037\n",
      "当前step : 31/50 ,训练集损失 : 0.00002 , 验证集损失 : 0.00008\n",
      "当前step : 32/50 ,训练集损失 : 0.64217 , 验证集损失 : 0.00001\n",
      "当前step : 33/50 ,训练集损失 : 0.00236 , 验证集损失 : 0.00519\n",
      "当前step : 34/50 ,训练集损失 : 0.00011 , 验证集损失 : 0.00089\n",
      "当前step : 35/50 ,训练集损失 : 0.23567 , 验证集损失 : 0.07333\n",
      "当前step : 36/50 ,训练集损失 : 0.00170 , 验证集损失 : 0.08375\n",
      "当前step : 37/50 ,训练集损失 : 0.00000 , 验证集损失 : 0.00096\n",
      "当前step : 38/50 ,训练集损失 : 0.00193 , 验证集损失 : 0.37501\n",
      "当前step : 39/50 ,训练集损失 : 0.00001 , 验证集损失 : 0.00002\n",
      "当前step : 40/50 ,训练集损失 : 0.01685 , 验证集损失 : 0.02618\n",
      "当前step : 41/50 ,训练集损失 : 0.00430 , 验证集损失 : 0.00001\n",
      "当前step : 42/50 ,训练集损失 : 0.00004 , 验证集损失 : 2.81487\n",
      "当前step : 43/50 ,训练集损失 : 0.00014 , 验证集损失 : 0.01868\n",
      "当前step : 44/50 ,训练集损失 : 0.00004 , 验证集损失 : 0.00057\n",
      "当前step : 45/50 ,训练集损失 : 0.03982 , 验证集损失 : 0.00005\n",
      "当前step : 46/50 ,训练集损失 : 0.00000 , 验证集损失 : 0.99952\n",
      "当前step : 47/50 ,训练集损失 : 0.16438 , 验证集损失 : 0.10973\n",
      "当前step : 48/50 ,训练集损失 : 0.03074 , 验证集损失 : 0.00000\n",
      "当前step : 49/50 ,训练集损失 : 0.00005 , 验证集损失 : 0.63307\n",
      "当前step : 50/50 ,训练集损失 : 0.00077 , 验证集损失 : 0.37330\n"
     ]
    }
   ],
   "source": [
    "## 开始训练\n",
    "for epoch in range(epochs):\n",
    "    losses = []\n",
    "    val_loss = []\n",
    "    model.train()\n",
    "    for i, data in enumerate(train_loader):\n",
    "        input_img, targets = data\n",
    "        # 前向传播\n",
    "        out = model(input_img)\n",
    "        # 计算损失\n",
    "        losses = loss(out, targets)\n",
    "        # 反相传播\n",
    "        losses.backward()\n",
    "        # 更新参数\n",
    "        optimizer.step()\n",
    "        # 梯度清零\n",
    "        optimizer.zero_grad()\n",
    "    model.eval()\n",
    "    for i, val_data in enumerate(test_loader):\n",
    "        val_img, targets = val_data\n",
    "        val_out = model(val_img)\n",
    "        val_loss = loss(val_out, targets)\n",
    "    print(\"当前step : {}/{} ,训练集损失 : {:.5f} , 验证集损失 : {:.5f}\".format(epoch+1, epochs, losses, val_loss))"
   ]
  },
  {
   "cell_type": "code",
   "execution_count": 45,
   "metadata": {},
   "outputs": [
    {
     "name": "stdout",
     "output_type": "stream",
     "text": [
      "Help on method_descriptor:\n",
      "\n",
      "index(self, value, start=0, stop=9223372036854775807, /)\n",
      "    Return first index of value.\n",
      "    \n",
      "    Raises ValueError if the value is not present.\n",
      "\n"
     ]
    }
   ],
   "source": [
    "help(list.index)"
   ]
  },
  {
   "cell_type": "code",
   "execution_count": 47,
   "metadata": {
    "collapsed": false,
    "jupyter": {
     "outputs_hidden": false
    },
    "pycharm": {
     "name": "#%%\n"
    }
   },
   "outputs": [
    {
     "name": "stdout",
     "output_type": "stream",
     "text": [
      "[ 2.3945530e+01 -2.3413169e+00  6.5458656e+01  2.6385809e+01\n",
      " -5.3856440e+00 -8.7548275e+00  3.0709088e-02  1.7612244e+01\n",
      "  1.1012868e+01 -5.2795574e+01]\n",
      "<class 'list'>\n",
      "3\n"
     ]
    }
   ],
   "source": [
    "## 结果预测\n",
    "img = cv2.imread(\"./data/3.jpg\",cv2.THRESH_BINARY)\n",
    "cv2.normalize(img,img,0,255,cv2.NORM_MINMAX)\n",
    "img = img / 255\n",
    "img = cv2.resize(img,(28,28)).flatten()\n",
    "img = torch.from_numpy(img)\n",
    "predicted = model(img.to(torch.float32))\n",
    "predicted = predicted.detach().numpy()\n",
    "print(predicted)\n",
    "predicted = predicted.tolist()\n",
    "print(type(predicted))\n",
    "print(predicted.index(max(predicted))+1)"
   ]
  },
  {
   "cell_type": "code",
   "execution_count": null,
   "metadata": {
    "collapsed": false,
    "jupyter": {
     "outputs_hidden": false
    },
    "pycharm": {
     "name": "#%%\n"
    }
   },
   "outputs": [],
   "source": []
  },
  {
   "cell_type": "code",
   "execution_count": null,
   "metadata": {},
   "outputs": [],
   "source": []
  },
  {
   "cell_type": "code",
   "execution_count": null,
   "metadata": {},
   "outputs": [],
   "source": []
  }
 ],
 "metadata": {
  "kernelspec": {
   "display_name": "myconda",
   "language": "python",
   "name": "myconda"
  },
  "language_info": {
   "codemirror_mode": {
    "name": "ipython",
    "version": 3
   },
   "file_extension": ".py",
   "mimetype": "text/x-python",
   "name": "python",
   "nbconvert_exporter": "python",
   "pygments_lexer": "ipython3",
   "version": "3.8.12"
  }
 },
 "nbformat": 4,
 "nbformat_minor": 4
}
